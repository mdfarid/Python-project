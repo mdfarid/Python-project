{
 "cells": [
  {
   "cell_type": "markdown",
   "metadata": {},
   "source": [
    "<h4> LSTM with scikit </h4>\n",
    "\n",
    "\n",
    "<ul>\n",
    "    <li> Get Weather forecast data </li>\n",
    "    <li> Information can be extracted </li>\n",
    "    <li> Create a visual chart to show the weather pattern</li>\n",
    "</ul>    \n",
    "\n",
    "Use Neuran Network -> Pending"
   ]
  },
  {
   "cell_type": "code",
   "execution_count": 240,
   "metadata": {},
   "outputs": [],
   "source": [
    "import pandas as pd  \n",
    "import numpy as np  \n",
    "import matplotlib.pyplot as plt  \n",
    "import seaborn as seabornInstance \n",
    "from sklearn.model_selection import train_test_split \n",
    "from sklearn.linear_model import LinearRegression\n",
    "from sklearn.metrics import r2_score\n",
    "from sklearn import metrics\n",
    "%matplotlib inline\n",
    "from scipy import stats\n"
   ]
  },
  {
   "cell_type": "code",
   "execution_count": 278,
   "metadata": {},
   "outputs": [],
   "source": [
    "#Opem file\n",
    "def openfile(file_path):\n",
    "    opened_file = open(file_path)\n",
    "    from csv import reader\n",
    "    read_file = reader(opened_file,encoding='latin1')\n",
    "    return list(read_file)\n",
    "\n",
    "\n",
    "#Create dataframe\n",
    "def dataframe(file_path):\n",
    "    output = pd.read_csv(file_path, encoding='latin1')\n",
    "    return output"
   ]
  },
  {
   "cell_type": "code",
   "execution_count": 283,
   "metadata": {},
   "outputs": [],
   "source": [
    "def checkLinear(x,y):\n",
    "    slope, intercept, r, p, std_err = stats.linregress(y, x)\n",
    "    if r < 0.8:\n",
    "        print('Linear Regression does not fit for this data , %s' %r)\n",
    "    else:\n",
    "        print('Linear model has an accuracy of , %s' %r)    "
   ]
  },
  {
   "cell_type": "code",
   "execution_count": 352,
   "metadata": {
    "scrolled": true
   },
   "outputs": [
    {
     "data": {
      "text/html": [
       "<div>\n",
       "<style scoped>\n",
       "    .dataframe tbody tr th:only-of-type {\n",
       "        vertical-align: middle;\n",
       "    }\n",
       "\n",
       "    .dataframe tbody tr th {\n",
       "        vertical-align: top;\n",
       "    }\n",
       "\n",
       "    .dataframe thead th {\n",
       "        text-align: right;\n",
       "    }\n",
       "</style>\n",
       "<table border=\"1\" class=\"dataframe\">\n",
       "  <thead>\n",
       "    <tr style=\"text-align: right;\">\n",
       "      <th></th>\n",
       "      <th>Station</th>\n",
       "      <th>Year</th>\n",
       "      <th>Month</th>\n",
       "      <th>Day</th>\n",
       "      <th>Daily Rainfall Total (mm)</th>\n",
       "      <th>Highest 30 Min Rainfall (mm)</th>\n",
       "      <th>Highest 60 Min Rainfall (mm)</th>\n",
       "      <th>Highest 120 Min Rainfall (mm)</th>\n",
       "      <th>Mean Temperature (°C)</th>\n",
       "      <th>Maximum Temperature (°C)</th>\n",
       "      <th>Minimum Temperature (°C)</th>\n",
       "      <th>Mean Wind Speed (km/h)</th>\n",
       "      <th>Max Wind Speed (km/h)</th>\n",
       "    </tr>\n",
       "  </thead>\n",
       "  <tbody>\n",
       "    <tr>\n",
       "      <td>0</td>\n",
       "      <td>Changi</td>\n",
       "      <td>2020</td>\n",
       "      <td>2</td>\n",
       "      <td>1</td>\n",
       "      <td>0.0</td>\n",
       "      <td>0.0</td>\n",
       "      <td>0.0</td>\n",
       "      <td>0.0</td>\n",
       "      <td>28.3</td>\n",
       "      <td>32.0</td>\n",
       "      <td>26.2</td>\n",
       "      <td>17.6</td>\n",
       "      <td>38.5</td>\n",
       "    </tr>\n",
       "    <tr>\n",
       "      <td>1</td>\n",
       "      <td>Changi</td>\n",
       "      <td>2020</td>\n",
       "      <td>2</td>\n",
       "      <td>2</td>\n",
       "      <td>0.0</td>\n",
       "      <td>0.0</td>\n",
       "      <td>0.0</td>\n",
       "      <td>0.0</td>\n",
       "      <td>27.9</td>\n",
       "      <td>31.8</td>\n",
       "      <td>26.6</td>\n",
       "      <td>16.9</td>\n",
       "      <td>40.3</td>\n",
       "    </tr>\n",
       "    <tr>\n",
       "      <td>2</td>\n",
       "      <td>Changi</td>\n",
       "      <td>2020</td>\n",
       "      <td>2</td>\n",
       "      <td>3</td>\n",
       "      <td>0.0</td>\n",
       "      <td>0.0</td>\n",
       "      <td>0.0</td>\n",
       "      <td>0.0</td>\n",
       "      <td>28.0</td>\n",
       "      <td>31.5</td>\n",
       "      <td>25.6</td>\n",
       "      <td>13.0</td>\n",
       "      <td>34.6</td>\n",
       "    </tr>\n",
       "    <tr>\n",
       "      <td>3</td>\n",
       "      <td>Changi</td>\n",
       "      <td>2020</td>\n",
       "      <td>2</td>\n",
       "      <td>4</td>\n",
       "      <td>0.0</td>\n",
       "      <td>0.0</td>\n",
       "      <td>0.0</td>\n",
       "      <td>0.0</td>\n",
       "      <td>27.5</td>\n",
       "      <td>31.5</td>\n",
       "      <td>24.6</td>\n",
       "      <td>11.2</td>\n",
       "      <td>31.0</td>\n",
       "    </tr>\n",
       "    <tr>\n",
       "      <td>4</td>\n",
       "      <td>Changi</td>\n",
       "      <td>2020</td>\n",
       "      <td>2</td>\n",
       "      <td>5</td>\n",
       "      <td>0.0</td>\n",
       "      <td>0.0</td>\n",
       "      <td>0.0</td>\n",
       "      <td>0.0</td>\n",
       "      <td>27.8</td>\n",
       "      <td>32.3</td>\n",
       "      <td>24.5</td>\n",
       "      <td>12.2</td>\n",
       "      <td>33.8</td>\n",
       "    </tr>\n",
       "    <tr>\n",
       "      <td>5</td>\n",
       "      <td>Changi</td>\n",
       "      <td>2020</td>\n",
       "      <td>2</td>\n",
       "      <td>6</td>\n",
       "      <td>0.0</td>\n",
       "      <td>0.0</td>\n",
       "      <td>0.0</td>\n",
       "      <td>0.0</td>\n",
       "      <td>28.1</td>\n",
       "      <td>32.2</td>\n",
       "      <td>25.6</td>\n",
       "      <td>14.4</td>\n",
       "      <td>35.3</td>\n",
       "    </tr>\n",
       "    <tr>\n",
       "      <td>6</td>\n",
       "      <td>Changi</td>\n",
       "      <td>2020</td>\n",
       "      <td>2</td>\n",
       "      <td>7</td>\n",
       "      <td>0.0</td>\n",
       "      <td>0.0</td>\n",
       "      <td>0.0</td>\n",
       "      <td>0.0</td>\n",
       "      <td>28.0</td>\n",
       "      <td>31.3</td>\n",
       "      <td>25.9</td>\n",
       "      <td>14.4</td>\n",
       "      <td>41.0</td>\n",
       "    </tr>\n",
       "    <tr>\n",
       "      <td>7</td>\n",
       "      <td>Changi</td>\n",
       "      <td>2020</td>\n",
       "      <td>2</td>\n",
       "      <td>8</td>\n",
       "      <td>0.0</td>\n",
       "      <td>0.0</td>\n",
       "      <td>0.0</td>\n",
       "      <td>0.0</td>\n",
       "      <td>27.7</td>\n",
       "      <td>31.4</td>\n",
       "      <td>24.7</td>\n",
       "      <td>9.7</td>\n",
       "      <td>30.2</td>\n",
       "    </tr>\n",
       "    <tr>\n",
       "      <td>8</td>\n",
       "      <td>Changi</td>\n",
       "      <td>2020</td>\n",
       "      <td>2</td>\n",
       "      <td>9</td>\n",
       "      <td>14.6</td>\n",
       "      <td>4.8</td>\n",
       "      <td>5.2</td>\n",
       "      <td>8.6</td>\n",
       "      <td>26.2</td>\n",
       "      <td>29.8</td>\n",
       "      <td>23.7</td>\n",
       "      <td>7.2</td>\n",
       "      <td>34.6</td>\n",
       "    </tr>\n",
       "    <tr>\n",
       "      <td>9</td>\n",
       "      <td>Changi</td>\n",
       "      <td>2020</td>\n",
       "      <td>2</td>\n",
       "      <td>10</td>\n",
       "      <td>0.0</td>\n",
       "      <td>0.0</td>\n",
       "      <td>0.0</td>\n",
       "      <td>0.0</td>\n",
       "      <td>27.0</td>\n",
       "      <td>30.9</td>\n",
       "      <td>24.2</td>\n",
       "      <td>9.4</td>\n",
       "      <td>29.5</td>\n",
       "    </tr>\n",
       "  </tbody>\n",
       "</table>\n",
       "</div>"
      ],
      "text/plain": [
       "  Station  Year  Month  Day  Daily Rainfall Total (mm)  \\\n",
       "0  Changi  2020      2    1                        0.0   \n",
       "1  Changi  2020      2    2                        0.0   \n",
       "2  Changi  2020      2    3                        0.0   \n",
       "3  Changi  2020      2    4                        0.0   \n",
       "4  Changi  2020      2    5                        0.0   \n",
       "5  Changi  2020      2    6                        0.0   \n",
       "6  Changi  2020      2    7                        0.0   \n",
       "7  Changi  2020      2    8                        0.0   \n",
       "8  Changi  2020      2    9                       14.6   \n",
       "9  Changi  2020      2   10                        0.0   \n",
       "\n",
       "   Highest 30 Min Rainfall (mm)  Highest 60 Min Rainfall (mm)  \\\n",
       "0                           0.0                           0.0   \n",
       "1                           0.0                           0.0   \n",
       "2                           0.0                           0.0   \n",
       "3                           0.0                           0.0   \n",
       "4                           0.0                           0.0   \n",
       "5                           0.0                           0.0   \n",
       "6                           0.0                           0.0   \n",
       "7                           0.0                           0.0   \n",
       "8                           4.8                           5.2   \n",
       "9                           0.0                           0.0   \n",
       "\n",
       "   Highest 120 Min Rainfall (mm)  Mean Temperature (°C)  \\\n",
       "0                            0.0                   28.3   \n",
       "1                            0.0                   27.9   \n",
       "2                            0.0                   28.0   \n",
       "3                            0.0                   27.5   \n",
       "4                            0.0                   27.8   \n",
       "5                            0.0                   28.1   \n",
       "6                            0.0                   28.0   \n",
       "7                            0.0                   27.7   \n",
       "8                            8.6                   26.2   \n",
       "9                            0.0                   27.0   \n",
       "\n",
       "   Maximum Temperature (°C)  Minimum Temperature (°C)  Mean Wind Speed (km/h)  \\\n",
       "0                      32.0                      26.2                    17.6   \n",
       "1                      31.8                      26.6                    16.9   \n",
       "2                      31.5                      25.6                    13.0   \n",
       "3                      31.5                      24.6                    11.2   \n",
       "4                      32.3                      24.5                    12.2   \n",
       "5                      32.2                      25.6                    14.4   \n",
       "6                      31.3                      25.9                    14.4   \n",
       "7                      31.4                      24.7                     9.7   \n",
       "8                      29.8                      23.7                     7.2   \n",
       "9                      30.9                      24.2                     9.4   \n",
       "\n",
       "   Max Wind Speed (km/h)  \n",
       "0                   38.5  \n",
       "1                   40.3  \n",
       "2                   34.6  \n",
       "3                   31.0  \n",
       "4                   33.8  \n",
       "5                   35.3  \n",
       "6                   41.0  \n",
       "7                   30.2  \n",
       "8                   34.6  \n",
       "9                   29.5  "
      ]
     },
     "execution_count": 352,
     "metadata": {},
     "output_type": "execute_result"
    }
   ],
   "source": [
    "\"\"\" \n",
    "    Data is based of library forecast \n",
    "    df_(Location name)\n",
    "    cn - changi\n",
    "    pg - ponggol \n",
    "    # Any Additional information can be found -> http://www.weather.gov.sg/climate-historical-daily/\n",
    "\"\"\"\n",
    "\n",
    "\n",
    "df_cn = dataframe('data/changi.csv')\n",
    "df_pg = dataframe('data/ponggol.csv')\n",
    "df_cn.head(10)"
   ]
  },
  {
   "cell_type": "markdown",
   "metadata": {},
   "source": []
  },
  {
   "cell_type": "code",
   "execution_count": 382,
   "metadata": {},
   "outputs": [
    {
     "name": "stdout",
     "output_type": "stream",
     "text": [
      "MSE is :  51.23641509139798\n",
      "R2 MSE :  7.157961657580877\n",
      "[28.11716205 30.49668256 37.26388746 34.68301954 34.73033676 19.37885788\n",
      " 35.1357837  34.14603416 39.21796488 41.79362334 40.59002283 36.65746769]\n",
      "1     40.3\n",
      "2     34.6\n",
      "5     35.3\n",
      "6     41.0\n",
      "7     30.2\n",
      "12    35.3\n",
      "13    31.7\n",
      "14    23.4\n",
      "18    38.5\n",
      "20    42.8\n",
      "22    43.9\n",
      "26    33.5\n",
      "Name: Max Wind Speed (km/h), dtype: float64\n"
     ]
    },
    {
     "data": {
      "image/png": "[encoded data removed]",
      "text/plain": [
       "<Figure size 432x288 with 1 Axes>"
      ]
     },
     "metadata": {
      "needs_background": "light"
     },
     "output_type": "display_data"
    }
   ],
   "source": [
    "chg = df_cn.drop(['Station','Year','Month','Day'], axis =1)\n",
    "\n",
    "\n",
    "X = chg.drop('Max Wind Speed (km/h)', axis = 1)\n",
    "y = chg['Max Wind Speed (km/h)']\n",
    "\n",
    "#scale features \n",
    "from sklearn.preprocessing import MinMaxScaler\n",
    "scaler = MinMaxScaler()\n",
    "X_scaled = pd.DataFrame(scaler.fit_transform(X), columns = X.columns)\n",
    "\n",
    "#Randomise the data\n",
    "from sklearn.model_selection import train_test_split\n",
    "X_train, X_test, y_train, y_test = train_test_split(X_scaled, y, test_size = 0.4, random_state = 10)\n",
    "\n",
    "from sklearn import linear_model\n",
    "lm = linear_model.LinearRegression()\n",
    "\n",
    "# TRAIN THE MODEL\n",
    "lm.fit(X_train, y_train)\n",
    "\n",
    "#Prediction\n",
    "predictions = lm.predict(X_test)\n",
    "\n",
    "\n",
    "from sklearn import metrics\n",
    "from sklearn.metrics import mean_squared_error, r2_score\n",
    "print('MSE is : ', metrics.mean_squared_error(y_test, predictions))\n",
    "print('R2 MSE : ', np.sqrt(metrics.mean_squared_error(y_test, predictions)))\n",
    "\n",
    "slope, intercept, r, p, std_err = stats.linregress(y_test, predictions)\n",
    "\n",
    "def myfunc(x):\n",
    "  return slope * x + intercept\n",
    "\n",
    "mymodel = list(map(myfunc, y_test))\n",
    "\n",
    "print(predictions)\n",
    "\n",
    "print(y_test.sort_index())\n",
    "# # SCATTERPLOT ACTUAL vs. PREDICTED\n",
    "plt.scatter(y_test, predictions, color = 'g')\n",
    "plt.plot(y_test, mymodel)\n",
    "plt.xlabel('Actual Wind Speed')\n",
    "plt.ylabel('Predicted Wind speed')\n",
    "plt.title('Plot');\n"
   ]
  },
  {
   "cell_type": "code",
   "execution_count": 385,
   "metadata": {},
   "outputs": [
    {
     "name": "stdout",
     "output_type": "stream",
     "text": [
      "[28.11716205 30.49668256 37.26388746 34.68301954 34.73033676 19.37885788\n",
      " 35.1357837  34.14603416 39.21796488 41.79362334 40.59002283 36.65746769]\n",
      "1     40.3\n",
      "2     34.6\n",
      "5     35.3\n",
      "6     41.0\n",
      "7     30.2\n",
      "12    35.3\n",
      "13    31.7\n",
      "14    23.4\n",
      "18    38.5\n",
      "20    42.8\n",
      "22    43.9\n",
      "26    33.5\n",
      "Name: Max Wind Speed (km/h), dtype: float64\n"
     ]
    }
   ],
   "source": [
    "print(predictions)\n",
    "\n",
    "print(y_test.sort_index())"
   ]
  },
  {
   "cell_type": "markdown",
   "metadata": {},
   "source": [
    "<h4>Challenges faced</h4>\n",
    "<ul>\n",
    "    <li>Data might not be accurate and it still need to be tune</li>\n",
    "    <li>Implemented the 3 steps to get data -> data processing , modeling , validation(prediction ) </li>\n",
    "    <li>Still unsure if it is the right model </li>\n",
    "    <li>Data was not available in csv format for the past 10 days, data is only available in csv for the month before</li>\n",
    "</ul>\n",
    "\n",
    "<h4> Remarks </h4>\n",
    "<ul>\n",
    "    <ul>can use rnn and tensorflow based on my research to do lstm weather forecasting</ul>\n",
    "</ul>    "
   ]
  },
  {
   "cell_type": "code",
   "execution_count": null,
   "metadata": {},
   "outputs": [],
   "source": []
  },
  {
   "cell_type": "markdown",
   "metadata": {},
   "source": [
    "<h1>Please note that codes below are not finalise and still in development</h1>"
   ]
  },
  {
   "cell_type": "code",
   "execution_count": null,
   "metadata": {},
   "outputs": [],
   "source": []
  },
  {
   "cell_type": "code",
   "execution_count": null,
   "metadata": {},
   "outputs": [],
   "source": []
  },
  {
   "cell_type": "code",
   "execution_count": null,
   "metadata": {},
   "outputs": [],
   "source": []
  },
  {
   "cell_type": "code",
   "execution_count": null,
   "metadata": {},
   "outputs": [],
   "source": []
  },
  {
   "cell_type": "code",
   "execution_count": 308,
   "metadata": {},
   "outputs": [
    {
     "name": "stdout",
     "output_type": "stream",
     "text": [
      "<class 'list'>\n"
     ]
    },
    {
     "data": {
      "image/png": "[encoded data removed]",
      "text/plain": [
       "<Figure size 432x288 with 1 Axes>"
      ]
     },
     "metadata": {
      "needs_background": "light"
     },
     "output_type": "display_data"
    }
   ],
   "source": [
    "#Header input should be list\n",
    "#Data header is predefined\n",
    "\n",
    "#Prediction on daily Raifall\n",
    "#Data Processing  \n",
    "\n",
    "def extract(dataset , automated = True , header = []):\n",
    "    if automated:\n",
    "        data_header = ['Day','Mean Temperature (°C)','Maximum Temperature (°C)','Minimum Temperature (°C)','Mean Wind Speed (km/h)','Max Wind Speed (km/h)']\n",
    "        dataset = dataset[data_header]\n",
    "        return dataset\n",
    "    else:\n",
    "        data_header = dataset[header]\n",
    "        return data_header\n",
    "\n",
    "    \n",
    "def listConversion(data):\n",
    "    result = []\n",
    "    for i in data:\n",
    "         result.append(i[0])\n",
    "    return result\n",
    "    \n",
    "# Extract inforation \n",
    "cn_temperature = extract(df_cn,automated=False, header = ['Mean Temperature (°C)'])\n",
    "cn_rainfall = extract(df_cn,automated=False, header = ['Day','Daily Rainfall Total (mm)'])\n",
    "\n",
    "#Get Max wind prediction - Single value \n",
    "cn_x = listConversion(np.array(extract(df_cn,automated=False, header = ['Max Wind Speed (km/h)'])))\n",
    "cn_y = listConversion(np.array(extract(df_cn,automated=False, header = ['Day'])))\n",
    "\n",
    "\n",
    "\n",
    "# # Check matrix \n",
    "# checkLinear(cn_y,cn_x)\n",
    "slope, intercept, r, p, std_err = stats.linregress(cn_y, cn_x)\n",
    "# print('%s , linear is not the best regression' % r)\n",
    "\n",
    "print(type(cn_x))\n",
    "\n",
    "model = np.poly1d(np.polyfit(cn_x,cn_y,3))\n",
    "mline = np.linspace(1,10,30)\n",
    "\n",
    "\n",
    "# def myfunc(x):\n",
    "#   return slope * x + intercept\n",
    "\n",
    "# mymodel = list(map(myfunc, cn_x))\n",
    "\n",
    "\n",
    "# # #plot data\n",
    "plt.scatter(cn_y,cn_x)\n",
    "plt.plot(mline,model(mline))\n",
    "plt.show()\n",
    "# plt.plot(cn_y,mymodel)\n",
    "# plt.show()\n",
    "# plt.ylabel('Max Wind Speed (km/h)')\n",
    "# plt.xlabel('Day In February')\n",
    "\n",
    "\n"
   ]
  },
  {
   "cell_type": "code",
   "execution_count": 276,
   "metadata": {},
   "outputs": [
    {
     "data": {
      "text/plain": [
       "array([[<matplotlib.axes._subplots.AxesSubplot object at 0x120d1ba90>]],\n",
       "      dtype=object)"
      ]
     },
     "execution_count": 276,
     "metadata": {},
     "output_type": "execute_result"
    },
    {
     "data": {
      "image/png": "[encoded data removed]",
      "text/plain": [
       "<Figure size 720x216 with 1 Axes>"
      ]
     },
     "metadata": {
      "needs_background": "light"
     },
     "output_type": "display_data"
    },
    {
     "data": {
      "image/png": "[encoded data removed]",
      "text/plain": [
       "<Figure size 432x288 with 1 Axes>"
      ]
     },
     "metadata": {
      "needs_background": "light"
     },
     "output_type": "display_data"
    }
   ],
   "source": [
    "# Chart on wind speed for february \n",
    "\n",
    "# chart = pd.Dataframe({'Day':cn_y,'Wind Speed ' : cn_x }, inedx = header)\n",
    "chart = pd.DataFrame({'Wind Speed': cn_x}, index= np.array(cn_y))\n",
    "chart.plot(figsize=(10,3))\n",
    "chart.hist()"
   ]
  },
  {
   "cell_type": "code",
   "execution_count": 307,
   "metadata": {},
   "outputs": [],
   "source": [
    "#Classification method to check the prediction\n",
    "X = df_cn.drop('Daily Rainfall Total (mm)' , axis = 1) \n",
    "y = df_cn['Daily Rainfall Total (mm)']\n",
    "\n",
    "#calculate wind prediction with classification method -> Linear Regression and confusion metrics \n",
    "\n",
    "#Processing Data - Step 1\n",
    "#Build model - Step 2 \n",
    "#Vaidation - Step 3"
   ]
  },
  {
   "cell_type": "code",
   "execution_count": 145,
   "metadata": {},
   "outputs": [
    {
     "ename": "ValueError",
     "evalue": "could not convert string to float: 'Changi'",
     "output_type": "error",
     "traceback": [
      "\u001b[0;31m---------------------------------------------------------------------------\u001b[0m",
      "\u001b[0;31mValueError\u001b[0m                                Traceback (most recent call last)",
      "\u001b[0;32m<ipython-input-145-0c313a5e05d4>\u001b[0m in \u001b[0;36m<module>\u001b[0;34m\u001b[0m\n\u001b[1;32m      1\u001b[0m \u001b[0;32mfrom\u001b[0m \u001b[0msklearn\u001b[0m\u001b[0;34m.\u001b[0m\u001b[0mpreprocessing\u001b[0m \u001b[0;32mimport\u001b[0m \u001b[0mnormalize\u001b[0m\u001b[0;34m\u001b[0m\u001b[0;34m\u001b[0m\u001b[0m\n\u001b[0;32m----> 2\u001b[0;31m \u001b[0mX_scaled\u001b[0m \u001b[0;34m=\u001b[0m \u001b[0mnormalize\u001b[0m\u001b[0;34m(\u001b[0m\u001b[0mX\u001b[0m\u001b[0;34m)\u001b[0m\u001b[0;34m\u001b[0m\u001b[0;34m\u001b[0m\u001b[0m\n\u001b[0m\u001b[1;32m      3\u001b[0m \u001b[0mdata_scaled\u001b[0m \u001b[0;34m=\u001b[0m \u001b[0mpd\u001b[0m\u001b[0;34m.\u001b[0m\u001b[0mDataFrame\u001b[0m\u001b[0;34m(\u001b[0m\u001b[0mX_scaled\u001b[0m\u001b[0;34m,\u001b[0m \u001b[0mcolumns\u001b[0m \u001b[0;34m=\u001b[0m \u001b[0mX\u001b[0m\u001b[0;34m.\u001b[0m\u001b[0mcolumns\u001b[0m\u001b[0;34m)\u001b[0m\u001b[0;34m\u001b[0m\u001b[0;34m\u001b[0m\u001b[0m\n\u001b[1;32m      4\u001b[0m \u001b[0mdata_scaled\u001b[0m\u001b[0;34m.\u001b[0m\u001b[0mhead\u001b[0m\u001b[0;34m(\u001b[0m\u001b[0;34m)\u001b[0m\u001b[0;34m\u001b[0m\u001b[0;34m\u001b[0m\u001b[0m\n",
      "\u001b[0;32m~/opt/anaconda3/lib/python3.7/site-packages/sklearn/preprocessing/data.py\u001b[0m in \u001b[0;36mnormalize\u001b[0;34m(X, norm, axis, copy, return_norm)\u001b[0m\n\u001b[1;32m   1612\u001b[0m \u001b[0;34m\u001b[0m\u001b[0m\n\u001b[1;32m   1613\u001b[0m     X = check_array(X, sparse_format, copy=copy,\n\u001b[0;32m-> 1614\u001b[0;31m                     estimator='the normalize function', dtype=FLOAT_DTYPES)\n\u001b[0m\u001b[1;32m   1615\u001b[0m     \u001b[0;32mif\u001b[0m \u001b[0maxis\u001b[0m \u001b[0;34m==\u001b[0m \u001b[0;36m0\u001b[0m\u001b[0;34m:\u001b[0m\u001b[0;34m\u001b[0m\u001b[0;34m\u001b[0m\u001b[0m\n\u001b[1;32m   1616\u001b[0m         \u001b[0mX\u001b[0m \u001b[0;34m=\u001b[0m \u001b[0mX\u001b[0m\u001b[0;34m.\u001b[0m\u001b[0mT\u001b[0m\u001b[0;34m\u001b[0m\u001b[0;34m\u001b[0m\u001b[0m\n",
      "\u001b[0;32m~/opt/anaconda3/lib/python3.7/site-packages/sklearn/utils/validation.py\u001b[0m in \u001b[0;36mcheck_array\u001b[0;34m(array, accept_sparse, accept_large_sparse, dtype, order, copy, force_all_finite, ensure_2d, allow_nd, ensure_min_samples, ensure_min_features, warn_on_dtype, estimator)\u001b[0m\n\u001b[1;32m    494\u001b[0m             \u001b[0;32mtry\u001b[0m\u001b[0;34m:\u001b[0m\u001b[0;34m\u001b[0m\u001b[0;34m\u001b[0m\u001b[0m\n\u001b[1;32m    495\u001b[0m                 \u001b[0mwarnings\u001b[0m\u001b[0;34m.\u001b[0m\u001b[0msimplefilter\u001b[0m\u001b[0;34m(\u001b[0m\u001b[0;34m'error'\u001b[0m\u001b[0;34m,\u001b[0m \u001b[0mComplexWarning\u001b[0m\u001b[0;34m)\u001b[0m\u001b[0;34m\u001b[0m\u001b[0;34m\u001b[0m\u001b[0m\n\u001b[0;32m--> 496\u001b[0;31m                 \u001b[0marray\u001b[0m \u001b[0;34m=\u001b[0m \u001b[0mnp\u001b[0m\u001b[0;34m.\u001b[0m\u001b[0masarray\u001b[0m\u001b[0;34m(\u001b[0m\u001b[0marray\u001b[0m\u001b[0;34m,\u001b[0m \u001b[0mdtype\u001b[0m\u001b[0;34m=\u001b[0m\u001b[0mdtype\u001b[0m\u001b[0;34m,\u001b[0m \u001b[0morder\u001b[0m\u001b[0;34m=\u001b[0m\u001b[0morder\u001b[0m\u001b[0;34m)\u001b[0m\u001b[0;34m\u001b[0m\u001b[0;34m\u001b[0m\u001b[0m\n\u001b[0m\u001b[1;32m    497\u001b[0m             \u001b[0;32mexcept\u001b[0m \u001b[0mComplexWarning\u001b[0m\u001b[0;34m:\u001b[0m\u001b[0;34m\u001b[0m\u001b[0;34m\u001b[0m\u001b[0m\n\u001b[1;32m    498\u001b[0m                 raise ValueError(\"Complex data not supported\\n\"\n",
      "\u001b[0;32m~/opt/anaconda3/lib/python3.7/site-packages/numpy/core/_asarray.py\u001b[0m in \u001b[0;36masarray\u001b[0;34m(a, dtype, order)\u001b[0m\n\u001b[1;32m     83\u001b[0m \u001b[0;34m\u001b[0m\u001b[0m\n\u001b[1;32m     84\u001b[0m     \"\"\"\n\u001b[0;32m---> 85\u001b[0;31m     \u001b[0;32mreturn\u001b[0m \u001b[0marray\u001b[0m\u001b[0;34m(\u001b[0m\u001b[0ma\u001b[0m\u001b[0;34m,\u001b[0m \u001b[0mdtype\u001b[0m\u001b[0;34m,\u001b[0m \u001b[0mcopy\u001b[0m\u001b[0;34m=\u001b[0m\u001b[0;32mFalse\u001b[0m\u001b[0;34m,\u001b[0m \u001b[0morder\u001b[0m\u001b[0;34m=\u001b[0m\u001b[0morder\u001b[0m\u001b[0;34m)\u001b[0m\u001b[0;34m\u001b[0m\u001b[0;34m\u001b[0m\u001b[0m\n\u001b[0m\u001b[1;32m     86\u001b[0m \u001b[0;34m\u001b[0m\u001b[0m\n\u001b[1;32m     87\u001b[0m \u001b[0;34m\u001b[0m\u001b[0m\n",
      "\u001b[0;31mValueError\u001b[0m: could not convert string to float: 'Changi'"
     ]
    }
   ],
   "source": [
    "from sklearn.preprocessing import normalize\n",
    "X_scaled = normalize(X)\n",
    "data_scaled = pd.DataFrame(X_scaled, columns = X.columns)\n",
    "data_scaled.head()"
   ]
  },
  {
   "cell_type": "code",
   "execution_count": null,
   "metadata": {},
   "outputs": [],
   "source": []
  },
  {
   "cell_type": "code",
   "execution_count": null,
   "metadata": {},
   "outputs": [],
   "source": []
  },
  {
   "cell_type": "code",
   "execution_count": null,
   "metadata": {},
   "outputs": [],
   "source": []
  },
  {
   "cell_type": "code",
   "execution_count": null,
   "metadata": {},
   "outputs": [],
   "source": []
  },
  {
   "cell_type": "code",
   "execution_count": null,
   "metadata": {},
   "outputs": [],
   "source": []
  },
  {
   "cell_type": "code",
   "execution_count": null,
   "metadata": {},
   "outputs": [],
   "source": []
  },
  {
   "cell_type": "code",
   "execution_count": null,
   "metadata": {},
   "outputs": [],
   "source": []
  },
  {
   "cell_type": "code",
   "execution_count": null,
   "metadata": {},
   "outputs": [],
   "source": []
  },
  {
   "cell_type": "code",
   "execution_count": null,
   "metadata": {},
   "outputs": [],
   "source": []
  },
  {
   "cell_type": "code",
   "execution_count": null,
   "metadata": {},
   "outputs": [],
   "source": []
  },
  {
   "cell_type": "code",
   "execution_count": null,
   "metadata": {},
   "outputs": [],
   "source": []
  },
  {
   "cell_type": "code",
   "execution_count": null,
   "metadata": {},
   "outputs": [],
   "source": []
  },
  {
   "cell_type": "code",
   "execution_count": null,
   "metadata": {},
   "outputs": [],
   "source": []
  },
  {
   "cell_type": "code",
   "execution_count": null,
   "metadata": {},
   "outputs": [],
   "source": []
  }
 ],
 "metadata": {
  "kernelspec": {
   "display_name": "Python 3",
   "language": "python",
   "name": "python3"
  },
  "language_info": {
   "codemirror_mode": {
    "name": "ipython",
    "version": 3
   },
   "file_extension": ".py",
   "mimetype": "text/x-python",
   "name": "python",
   "nbconvert_exporter": "python",
   "pygments_lexer": "ipython3",
   "version": "3.7.4"
  }
 },
 "nbformat": 4,
 "nbformat_minor": 2
}
