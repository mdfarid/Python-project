{
 "cells": [
  {
   "cell_type": "markdown",
   "metadata": {},
   "source": [
    "<h4>Chart on application comparison on Google Play & Apple store</h4>\n",
    "\n",
    "Goal : \n",
    "\n",
    "<ul>\n",
    " <li>count the number of application downloaded <b>COMPLETED</b> </li>\n",
    "    <li>Which Category has the most downloaded apps <b> COMPLETED </b> </li>\n",
    "</ul> \n",
    " \n",
    " Plot a bar chart & regression method to see the downloaded pattern \n",
    " "
   ]
  },
  {
   "cell_type": "code",
   "execution_count": 1,
   "metadata": {},
   "outputs": [],
   "source": [
    "import numpy as np\n",
    "import pandas as pd \n",
    "import seaborn as sns\n",
    "import matplotlib.pyplot as plt\n",
    "from scipy import stats"
   ]
  },
  {
   "cell_type": "code",
   "execution_count": 2,
   "metadata": {},
   "outputs": [],
   "source": [
    "sns.set(style=\"whitegrid\", color_codes=True)\n",
    "sns.set(rc={'figure.figsize':(15,8)})"
   ]
  },
  {
   "cell_type": "code",
   "execution_count": null,
   "metadata": {
    "scrolled": true
   },
   "outputs": [],
   "source": []
  },
  {
   "cell_type": "code",
   "execution_count": 8,
   "metadata": {},
   "outputs": [],
   "source": [
    "# Function to open file\n",
    "\n",
    "def openfile(file_path):\n",
    "    opened_file = open(file_path)\n",
    "    from csv import reader\n",
    "    read_file = reader(opened_file)\n",
    "    return list(read_file)\n",
    "\n",
    "# openfile('../raw_data/googleplaystore.csv')"
   ]
  },
  {
   "cell_type": "code",
   "execution_count": 6,
   "metadata": {},
   "outputs": [
    {
     "name": "stdout",
     "output_type": "stream",
     "text": [
      "CPU times: user 104 ms, sys: 17.9 ms, total: 122 ms\n",
      "Wall time: 122 ms\n"
     ]
    }
   ],
   "source": [
    "%%time\n",
    "# Open file #2million Records\n",
    "google = openfile('../raw_data/googleplaystore.csv')\n",
    "apple = openfile('../raw_data/appleStore.csv')\n",
    "\n",
    "\n",
    "#Extract data from raw format and assign to a list ( data value )\n",
    "def data_extraction(data_set, index):\n",
    "    column = []\n",
    "    for row in data_set[1:]:\n",
    "        value = row[index]\n",
    "        column.append(value)\n",
    "    return column\n",
    "     \n",
    "# Get the frequency of the selected value \n",
    "def freq_ratings(extracted_data_list):\n",
    "    freq = {}\n",
    "    for i in extracted_data_list:\n",
    "        if i in freq:\n",
    "            freq[i] += 1\n",
    "        else:\n",
    "            freq[i] = 1\n",
    "    return freq       "
   ]
  },
  {
   "cell_type": "code",
   "execution_count": 5,
   "metadata": {},
   "outputs": [
    {
     "name": "stdout",
     "output_type": "stream",
     "text": [
      "[460 156 149 366 382 463 260 384 424  82]\n"
     ]
    },
    {
     "data": {
      "text/plain": [
       "<matplotlib.axes._subplots.AxesSubplot at 0x126fe3a10>"
      ]
     },
     "execution_count": 5,
     "metadata": {},
     "output_type": "execute_result"
    },
    {
     "data": {
      "image/png": "[encoded data removed]",
      "text/plain": [
       "<Figure size 1080x576 with 1 Axes>"
      ]
     },
     "metadata": {},
     "output_type": "display_data"
    }
   ],
   "source": [
    "#set data to uppercase\n",
    "def tabular(dataset, index):\n",
    "    #Count Frequency \n",
    "    category = data_extraction(dataset,index)\n",
    "    category_rating = freq_ratings(category)\n",
    "    \n",
    "    #Create tabular table : set all data to uppercase to match data\n",
    "    category_rating = {x.upper():y for x,y in category_rating.items()}\n",
    "    \n",
    "    return pd.DataFrame(list(category_rating.items()), columns=['Category','Count'])\n",
    "\n",
    "#Get common category\n",
    "def common_category(dataframe_1, dataframe_2):\n",
    "    data = np.intersect1d(dataframe_1.Category, np.intersect1d(dataframe_1.Category,dataframe_2.Category))\n",
    "    return data\n",
    "    \n",
    "def createBarChart(df_1,df_2,cm_list):\n",
    "    df1_arr = df_1[df_1['Category'].isin(cm_list)]\n",
    "    df2_arr = df_2[df_2['Category'].isin(cm_list)]\n",
    "    \n",
    "    header = np.array(df1_arr['Category'])\n",
    "    df_1 = np.array(df1_arr['Count'])\n",
    "    df_2 = np.array(df2_arr['Count'])\n",
    "    print(df_1)\n",
    "    bar_chart = pd.DataFrame({'AppleStore Records': df_1,'Google PlayStore Records': df_2}, index=header)\n",
    "    return bar_chart.plot.bar(rot=0)\n",
    "\n",
    "df_g = tabular(google,1)\n",
    "df_a = tabular(apple,11)\n",
    "cm_list = common_category(df_a,df_g)\n",
    "\n",
    "createBarChart(df_g,df_a,cm_list)\n",
    "\n",
    "\n",
    "# df = df_g[df_g['Category'].isin(['BEAUTY','GAME'])]\n",
    "# print(df_a.Category)\n",
    "# np.intersect1d(df_g.Category, np.intersect1d(df_g.Category,df_a.Category))\n",
    "\n"
   ]
  },
  {
   "cell_type": "code",
   "execution_count": null,
   "metadata": {},
   "outputs": [],
   "source": []
  },
  {
   "cell_type": "code",
   "execution_count": null,
   "metadata": {},
   "outputs": [],
   "source": []
  }
 ],
 "metadata": {
  "kernelspec": {
   "display_name": "Python 3",
   "language": "python",
   "name": "python3"
  },
  "language_info": {
   "codemirror_mode": {
    "name": "ipython",
    "version": 3
   },
   "file_extension": ".py",
   "mimetype": "text/x-python",
   "name": "python",
   "nbconvert_exporter": "python",
   "pygments_lexer": "ipython3",
   "version": "3.7.4"
  }
 },
 "nbformat": 4,
 "nbformat_minor": 2
}
