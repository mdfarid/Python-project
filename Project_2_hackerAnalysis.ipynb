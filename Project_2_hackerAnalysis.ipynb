{
 "cells": [
  {
   "cell_type": "markdown",
   "metadata": {},
   "source": [
    "### Project 0.2 | Hacker News Report\n",
    "<ul>\n",
    "    <li> Find the number of news that was posted from desired date range by user </li>\n",
    "    <li> Data Should presented in dataframe <b>Completed</b></li>\n",
    "    <li> Find number of average comment by hourly basis <b>Completed</b></li>\n",
    "    <li> Plot the graph based on the number of news gathered over the timeframe <b>Completed</b></li>\n",
    "</ul>    \n",
    "\n",
    "<p> Technology and library that will be used in this project is </p> \n",
    "<ul> \n",
    "    <li> Python - Main language </li> \n",
    "    <li> Pandas, Numpy , Matplotlib </li> \n",
    "</ul> \n",
    "\n",
    "<p> Objective : Familiarise with oop concept , date manipulation </p>\n",
    "\n",
    "<p> By : Farid </p>\n"
   ]
  },
  {
   "cell_type": "markdown",
   "metadata": {},
   "source": [
    "### ------ Class , Methods & Functions ------"
   ]
  },
  {
   "cell_type": "code",
   "execution_count": 82,
   "metadata": {},
   "outputs": [],
   "source": [
    "# import datetime as dt\n",
    "from datetime import datetime as dt\n",
    "# from scipy import stats \n",
    "from sklearn.metrics import r2_score\n",
    "import numpy as np\n",
    "import pandas as pd \n",
    "from csv import reader\n",
    "import matplotlib.pyplot as plt"
   ]
  },
  {
   "cell_type": "code",
   "execution_count": 2,
   "metadata": {},
   "outputs": [],
   "source": [
    "class openfile():\n",
    "    def __init__(self, fileurl):    \n",
    "        self.data = fileurl\n",
    "        self.opened_file = open(fileurl)\n",
    "        self.read_file = reader(self.opened_file)\n",
    "        self.result = list(self.read_file)\n",
    "        \n",
    "        #Dataframe manipulation\n",
    "        dataframe =  pd.DataFrame(self.result)\n",
    "        header = dataframe.iloc[0] #Getting the header\n",
    "        content = dataframe[1:] #get data based after one column\n",
    "        self.df = content.rename(columns=header) # Rename first column \n",
    "      "
   ]
  },
  {
   "cell_type": "code",
   "execution_count": 3,
   "metadata": {},
   "outputs": [],
   "source": [
    "class openfile_list():\n",
    "    def __init__(self, fileurl):    \n",
    "        self.data = fileurl\n",
    "        self.opened_file = open(fileurl)\n",
    "        self.read_file = reader(self.opened_file)\n",
    "        self.result = list(self.read_file)"
   ]
  },
  {
   "cell_type": "code",
   "execution_count": 4,
   "metadata": {},
   "outputs": [],
   "source": [
    "#find total number of comment in its respective category \n",
    "def find_average(dataset,index):\n",
    "    total_ask_comments = 0\n",
    "    for i in dataset:\n",
    "        num_comments = int(i[index])\n",
    "        total_ask_comments += num_comments \n",
    "    avg_ask_comments = (total_ask_comments/int(len(ask_post)))\n",
    "    return avg_ask_comments\n",
    "    \n"
   ]
  },
  {
   "cell_type": "markdown",
   "metadata": {},
   "source": [
    "### ---- Data Manipulation (Date and find average)----"
   ]
  },
  {
   "cell_type": "code",
   "execution_count": 5,
   "metadata": {
    "scrolled": false
   },
   "outputs": [
    {
     "data": {
      "text/html": [
       "<div>\n",
       "<style scoped>\n",
       "    .dataframe tbody tr th:only-of-type {\n",
       "        vertical-align: middle;\n",
       "    }\n",
       "\n",
       "    .dataframe tbody tr th {\n",
       "        vertical-align: top;\n",
       "    }\n",
       "\n",
       "    .dataframe thead th {\n",
       "        text-align: right;\n",
       "    }\n",
       "</style>\n",
       "<table border=\"1\" class=\"dataframe\">\n",
       "  <thead>\n",
       "    <tr style=\"text-align: right;\">\n",
       "      <th></th>\n",
       "      <th>id</th>\n",
       "      <th>title</th>\n",
       "      <th>url</th>\n",
       "      <th>num_points</th>\n",
       "      <th>num_comments</th>\n",
       "      <th>author</th>\n",
       "      <th>created_at</th>\n",
       "    </tr>\n",
       "  </thead>\n",
       "  <tbody>\n",
       "    <tr>\n",
       "      <td>1</td>\n",
       "      <td>12579008</td>\n",
       "      <td>You have two days to comment if you want stem ...</td>\n",
       "      <td>http://www.regulations.gov/document?D=FDA-2015...</td>\n",
       "      <td>1</td>\n",
       "      <td>0</td>\n",
       "      <td>altstar</td>\n",
       "      <td>9/26/2016 3:26</td>\n",
       "    </tr>\n",
       "    <tr>\n",
       "      <td>2</td>\n",
       "      <td>12579005</td>\n",
       "      <td>SQLAR  the SQLite Archiver</td>\n",
       "      <td>https://www.sqlite.org/sqlar/doc/trunk/README.md</td>\n",
       "      <td>1</td>\n",
       "      <td>0</td>\n",
       "      <td>blacksqr</td>\n",
       "      <td>9/26/2016 3:24</td>\n",
       "    </tr>\n",
       "    <tr>\n",
       "      <td>3</td>\n",
       "      <td>12578997</td>\n",
       "      <td>What if we just printed a flatscreen televisio...</td>\n",
       "      <td>https://medium.com/vanmoof/our-secrets-out-f21...</td>\n",
       "      <td>1</td>\n",
       "      <td>0</td>\n",
       "      <td>pavel_lishin</td>\n",
       "      <td>9/26/2016 3:19</td>\n",
       "    </tr>\n",
       "    <tr>\n",
       "      <td>4</td>\n",
       "      <td>12578989</td>\n",
       "      <td>algorithmic music</td>\n",
       "      <td>http://cacm.acm.org/magazines/2011/7/109891-al...</td>\n",
       "      <td>1</td>\n",
       "      <td>0</td>\n",
       "      <td>poindontcare</td>\n",
       "      <td>9/26/2016 3:16</td>\n",
       "    </tr>\n",
       "    <tr>\n",
       "      <td>5</td>\n",
       "      <td>12578979</td>\n",
       "      <td>How the Data Vault Enables the Next-Gen Data W...</td>\n",
       "      <td>https://www.talend.com/blog/2016/05/12/talend-...</td>\n",
       "      <td>1</td>\n",
       "      <td>0</td>\n",
       "      <td>markgainor1</td>\n",
       "      <td>9/26/2016 3:14</td>\n",
       "    </tr>\n",
       "  </tbody>\n",
       "</table>\n",
       "</div>"
      ],
      "text/plain": [
       "         id                                              title  \\\n",
       "1  12579008  You have two days to comment if you want stem ...   \n",
       "2  12579005                         SQLAR  the SQLite Archiver   \n",
       "3  12578997  What if we just printed a flatscreen televisio...   \n",
       "4  12578989                                  algorithmic music   \n",
       "5  12578979  How the Data Vault Enables the Next-Gen Data W...   \n",
       "\n",
       "                                                 url num_points num_comments  \\\n",
       "1  http://www.regulations.gov/document?D=FDA-2015...          1            0   \n",
       "2   https://www.sqlite.org/sqlar/doc/trunk/README.md          1            0   \n",
       "3  https://medium.com/vanmoof/our-secrets-out-f21...          1            0   \n",
       "4  http://cacm.acm.org/magazines/2011/7/109891-al...          1            0   \n",
       "5  https://www.talend.com/blog/2016/05/12/talend-...          1            0   \n",
       "\n",
       "         author      created_at  \n",
       "1       altstar  9/26/2016 3:26  \n",
       "2      blacksqr  9/26/2016 3:24  \n",
       "3  pavel_lishin  9/26/2016 3:19  \n",
       "4  poindontcare  9/26/2016 3:16  \n",
       "5   markgainor1  9/26/2016 3:14  "
      ]
     },
     "execution_count": 5,
     "metadata": {},
     "output_type": "execute_result"
    }
   ],
   "source": [
    "#Using oop with class\n",
    "\n",
    "hacker_data = openfile('../raw_data/hacker_news.csv')\n",
    "hn = hacker_data.df\n",
    "hn.head(5)"
   ]
  },
  {
   "cell_type": "code",
   "execution_count": 6,
   "metadata": {
    "scrolled": false
   },
   "outputs": [],
   "source": [
    "opened_file = open('../raw_data/hacker_news.csv')\n",
    "read_file = reader(opened_file)\n",
    "result = list(read_file)\n",
    "header = result[0]\n",
    "hn = result[1:] "
   ]
  },
  {
   "cell_type": "code",
   "execution_count": 7,
   "metadata": {},
   "outputs": [
    {
     "name": "stdout",
     "output_type": "stream",
     "text": [
      "9248\n",
      "10207\n",
      "273664\n"
     ]
    }
   ],
   "source": [
    "# -- Assigning data title to its respective group --\n",
    "\n",
    "ask_post,show_post,other_post = [] , [] , []\n",
    "for i in hn:\n",
    "    title = i[1]\n",
    "    if title.startswith('Ask'):\n",
    "        ask_post.append(i)\n",
    "    elif title.startswith('Show'):\n",
    "        show_post.append(i)\n",
    "    else:\n",
    "        other_post.append(i)\n",
    "        \n",
    "print(len(ask_post))\n",
    "print(len(show_post))\n",
    "print(len(other_post))        "
   ]
  },
  {
   "cell_type": "code",
   "execution_count": 12,
   "metadata": {},
   "outputs": [
    {
     "name": "stdout",
     "output_type": "stream",
     "text": [
      "10.345047577854672\n",
      "5.3706747404844295\n"
     ]
    }
   ],
   "source": [
    "avg_ask_comments = find_average(ask_post,4)\n",
    "avg_show_comments = find_average(show_post,4)   \n",
    "\n",
    "\n",
    "print(avg_ask_comments)\n",
    "print(avg_show_comments)"
   ]
  },
  {
   "cell_type": "code",
   "execution_count": 62,
   "metadata": {},
   "outputs": [
    {
     "name": "stdout",
     "output_type": "stream",
     "text": [
      "{'02': 270, '01': 286, '22': 383, '21': 520, '19': 562, '17': 598, '15': 651, '14': 523, '13': 447, '11': 315, '10': 287, '09': 224, '07': 227, '03': 274, '23': 348, '20': 516, '16': 586, '08': 260, '00': 301, '18': 626, '12': 350, '04': 246, '06': 238, '05': 210}\n"
     ]
    }
   ],
   "source": [
    "#Create datetime as module\n",
    "\n",
    "result_list = []\n",
    "for i in ask_post:\n",
    "    created_at = i[6]\n",
    "    num_comments = int(i[4])\n",
    "    result_list.append([created_at, num_comments])\n",
    "      \n",
    "    \n",
    "count_by_hour, comments_by_hr = {} , {}\n",
    "\n",
    "for row in result_list:\n",
    "    date = dt.strptime(row[0], \"%m/%d/%Y %H:%M\")\n",
    "    hour = dt.strftime(date, \"%H\")\n",
    "    if hour not in count_by_hour:\n",
    "        count_by_hour[hour] = 1\n",
    "        comments_by_hr[hour] = row[1]\n",
    "    else:\n",
    "        count_by_hour[hour] += 1\n",
    "        comments_by_hr[hour] += row[1]\n",
    "        \n",
    "# for hr,no in count_by_hour.items():\n",
    "#     if no is not 1:\n",
    "#         print(no)\n",
    "print(count_by_hour)    \n",
    "\n",
    "\n"
   ]
  },
  {
   "cell_type": "code",
   "execution_count": 61,
   "metadata": {},
   "outputs": [],
   "source": [
    "#count the average by hour for the 2 dictionary (hr & no of comments)\n",
    "avg_by_hour = []\n",
    "for hr in count_by_hour:\n",
    "    avg_by_hour.append([hr,comments_by_hr[hr]/count_by_hour[hr]])"
   ]
  },
  {
   "cell_type": "code",
   "execution_count": 79,
   "metadata": {},
   "outputs": [
    {
     "name": "stdout",
     "output_type": "stream",
     "text": [
      "00:00: 7.52 average\n",
      "01:00: 7.31 average\n",
      "02:00: 11.10 average\n",
      "03:00: 8.00 average\n",
      "04:00: 9.64 average\n"
     ]
    }
   ],
   "source": [
    "#Data Presentation in list \n",
    "swap_avg_hour = []\n",
    "\n",
    "#Swapping data for index 1 to index 0\n",
    "for hr,avg in avg_by_hour:\n",
    "    swap_avg_hour.append([avg , hr])\n",
    "\n",
    "#Sorting data by descending order   , NOTE** This is using no swap data \n",
    "sorted_swap = sorted(avg_by_hour,key=lambda l:l[0], reverse=False)\n",
    "\n",
    "#Print the top 5  hours comment \n",
    "str_format = '{hr}:00: {avg:.2f} average'\n",
    "\n",
    "# --- Top 5 hours is ---\n",
    "for i in sorted_swap[:5]:\n",
    "    result = str_format.format(hr=i[0],avg=i[1])\n",
    "    print(result)\n"
   ]
  },
  {
   "cell_type": "code",
   "execution_count": null,
   "metadata": {},
   "outputs": [],
   "source": []
  },
  {
   "cell_type": "markdown",
   "metadata": {},
   "source": [
    "### ---- Visualisation ----"
   ]
  },
  {
   "cell_type": "code",
   "execution_count": 125,
   "metadata": {
    "scrolled": false
   },
   "outputs": [
    {
     "name": "stdout",
     "output_type": "stream",
     "text": [
      "CPU times: user 4 µs, sys: 1 µs, total: 5 µs\n",
      "Wall time: 10 µs\n",
      "The highest commented time is at :  28.46\n"
     ]
    },
    {
     "data": {
      "image/png": "[encoded data removed]",
      "text/plain": [
       "<Figure size 432x288 with 1 Axes>"
      ]
     },
     "metadata": {
      "needs_background": "light"
     },
     "output_type": "display_data"
    }
   ],
   "source": [
    "# Convert avg_to dataframe\n",
    "%time\n",
    "df = pd.DataFrame(sorted_swap, columns = ['Hours','Avg Comments in %']).round(2)\n",
    "df.head(2)\n",
    "\n",
    "max_rating = np.array(df['Avg Comments in %'])\n",
    "\n",
    "df.plot(subplots=True)\n",
    "print('The highest commented time is at : ' , np.max(max_rating) )"
   ]
  },
  {
   "cell_type": "code",
   "execution_count": 117,
   "metadata": {},
   "outputs": [
    {
     "data": {
      "text/plain": [
       "<matplotlib.collections.PathCollection at 0x138608fd0>"
      ]
     },
     "execution_count": 117,
     "metadata": {},
     "output_type": "execute_result"
    },
    {
     "data": {
      "image/png": "[encoded data removed]",
      "text/plain": [
       "<Figure size 432x288 with 1 Axes>"
      ]
     },
     "metadata": {
      "needs_background": "light"
     },
     "output_type": "display_data"
    }
   ],
   "source": [
    "#convert data to arraylist with numpy\n",
    "df_hr,df_convert_hr = np.array(df['Hours']) , []\n",
    "\n",
    "for i in df_hr:\n",
    "    df_convert_hr.append(int(i))\n",
    "df_avg = np.array(df['Avg Comments in %'])\n",
    "\n",
    "\n",
    "#Scatter plot \n",
    "plt.scatter(df_convert_hr,df_avg)\n",
    "\n",
    "#Check if tis a bad fit with r-square value \n",
    "# slope, intercept, r, p, std_err = stats.linregress(df_hr, df_avg)\n",
    "# print(rr)"
   ]
  },
  {
   "cell_type": "code",
   "execution_count": null,
   "metadata": {},
   "outputs": [],
   "source": []
  },
  {
   "cell_type": "code",
   "execution_count": null,
   "metadata": {},
   "outputs": [],
   "source": []
  },
  {
   "cell_type": "code",
   "execution_count": null,
   "metadata": {},
   "outputs": [],
   "source": []
  },
  {
   "cell_type": "code",
   "execution_count": null,
   "metadata": {},
   "outputs": [],
   "source": []
  },
  {
   "cell_type": "code",
   "execution_count": null,
   "metadata": {},
   "outputs": [],
   "source": []
  },
  {
   "cell_type": "code",
   "execution_count": null,
   "metadata": {},
   "outputs": [],
   "source": []
  },
  {
   "cell_type": "code",
   "execution_count": null,
   "metadata": {},
   "outputs": [],
   "source": []
  },
  {
   "cell_type": "code",
   "execution_count": null,
   "metadata": {},
   "outputs": [],
   "source": []
  },
  {
   "cell_type": "code",
   "execution_count": null,
   "metadata": {},
   "outputs": [],
   "source": []
  }
 ],
 "metadata": {
  "kernelspec": {
   "display_name": "Python 3",
   "language": "python",
   "name": "python3"
  },
  "language_info": {
   "codemirror_mode": {
    "name": "ipython",
    "version": 3
   },
   "file_extension": ".py",
   "mimetype": "text/x-python",
   "name": "python",
   "nbconvert_exporter": "python",
   "pygments_lexer": "ipython3",
   "version": "3.7.4"
  }
 },
 "nbformat": 4,
 "nbformat_minor": 2
}
