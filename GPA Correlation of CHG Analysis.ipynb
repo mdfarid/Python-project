{
 "cells": [
  {
   "cell_type": "markdown",
   "metadata": {},
   "source": [
    "<p> GPA Correlation change Analysis </p>\n",
    "\n",
    "<ul>\n",
    "    <li>find whether there's a link/correlation between trend of incident before the change and trend of incident after the change </li>\n",
    "    <li>whether the change implemented causes any stability issues that causes an increase in incident </li>\n",
    "</ul>\n",
    "\n",
    "<p>Based on the link given :  https://towardsdatascience.com/hypothesis-testing-in-machine-learning-using-python-a0dc89e169ce</p>\n",
    "<ul> \n",
    "    <li>it proposed to analyze the probability distribution of time series of incident before and after the change (before incident raised & after incident raised) and see if the distributions are the same</li>\n",
    "</ul>\n",
    "\n",
    "\n",
    "<p> Algorithm To research on : n-neighbour </p> \n",
    "<p> By : Farid </p>"
   ]
  },
  {
   "cell_type": "markdown",
   "metadata": {},
   "source": [
    "VERION 0.1\n",
    "\n"
   ]
  },
  {
   "cell_type": "code",
   "execution_count": null,
   "metadata": {},
   "outputs": [],
   "source": []
  },
  {
   "cell_type": "code",
   "execution_count": null,
   "metadata": {},
   "outputs": [],
   "source": []
  },
  {
   "cell_type": "code",
   "execution_count": null,
   "metadata": {},
   "outputs": [],
   "source": []
  },
  {
   "cell_type": "code",
   "execution_count": null,
   "metadata": {},
   "outputs": [],
   "source": []
  },
  {
   "cell_type": "code",
   "execution_count": 36,
   "metadata": {},
   "outputs": [],
   "source": [
    "from datetime import datetime as dt\n",
    "from sklearn.metrics import r2_score\n",
    "import numpy as np\n",
    "import pandas as pd \n",
    "from csv import reader\n",
    "import matplotlib.pyplot as plt\n",
    "import scipy.stats"
   ]
  },
  {
   "cell_type": "code",
   "execution_count": null,
   "metadata": {},
   "outputs": [],
   "source": []
  },
  {
   "cell_type": "code",
   "execution_count": 4,
   "metadata": {},
   "outputs": [],
   "source": [
    "class openfile():\n",
    "    def __init__(self, fileurl):    \n",
    "        self.data = fileurl\n",
    "        self.opened_file = open(fileurl)\n",
    "        self.read_file = reader(self.opened_file)\n",
    "        self.result = list(self.read_file)\n",
    "        \n",
    "        dataframe =  pd.DataFrame(self.result)\n",
    "        header = dataframe.iloc[0] \n",
    "        content = dataframe[1:]\n",
    "        self.df = content.rename(columns=header) "
   ]
  },
  {
   "cell_type": "code",
   "execution_count": 5,
   "metadata": {
    "scrolled": false
   },
   "outputs": [],
   "source": [
    "# Load data to table\n",
    "file = openfile('../raw_data/inc_trend.csv')\n",
    "load_data = file.result # Result is as list \n",
    "\n",
    "#convert date string to date\n",
    "for i in load_data[1:]:\n",
    "    i[2] = dt.strptime(i[2],'%m/%d/%Y').date()\n",
    "    i[3] = dt.strptime(i[3],'%m/%d/%Y').date()\n",
    "    i[5] = dt.strptime(i[5],'%m/%d/%Y').date()\n",
    "    i[6] = dt.strptime(i[6],'%m/%d/%Y').date()\n",
    "    \n",
    "    #convert to int to find if there is any correlation between trends \n",
    "    i[4] = int(i[4])\n",
    "    i[-1] = int(i[-1])\n",
    "    "
   ]
  },
  {
   "cell_type": "code",
   "execution_count": 6,
   "metadata": {},
   "outputs": [
    {
     "data": {
      "text/html": [
       "<div>\n",
       "<style scoped>\n",
       "    .dataframe tbody tr th:only-of-type {\n",
       "        vertical-align: middle;\n",
       "    }\n",
       "\n",
       "    .dataframe tbody tr th {\n",
       "        vertical-align: top;\n",
       "    }\n",
       "\n",
       "    .dataframe thead th {\n",
       "        text-align: right;\n",
       "    }\n",
       "</style>\n",
       "<table border=\"1\" class=\"dataframe\">\n",
       "  <thead>\n",
       "    <tr style=\"text-align: right;\">\n",
       "      <th></th>\n",
       "      <th>﻿appid</th>\n",
       "      <th>chg_number</th>\n",
       "      <th>chg_start</th>\n",
       "      <th>dates_bfr_5</th>\n",
       "      <th>inc_cnt_bfr</th>\n",
       "      <th>chg_end_date</th>\n",
       "      <th>dates_aft_5</th>\n",
       "      <th>inc_cnt_aft</th>\n",
       "    </tr>\n",
       "  </thead>\n",
       "  <tbody>\n",
       "    <tr>\n",
       "      <td>1</td>\n",
       "      <td>1</td>\n",
       "      <td>123</td>\n",
       "      <td>2020-01-15</td>\n",
       "      <td>2020-01-10</td>\n",
       "      <td>20</td>\n",
       "      <td>2020-01-17</td>\n",
       "      <td>2020-01-18</td>\n",
       "      <td>70</td>\n",
       "    </tr>\n",
       "    <tr>\n",
       "      <td>2</td>\n",
       "      <td>1</td>\n",
       "      <td>123</td>\n",
       "      <td>2020-01-15</td>\n",
       "      <td>2020-01-11</td>\n",
       "      <td>22</td>\n",
       "      <td>2020-01-17</td>\n",
       "      <td>2020-01-19</td>\n",
       "      <td>30</td>\n",
       "    </tr>\n",
       "    <tr>\n",
       "      <td>3</td>\n",
       "      <td>1</td>\n",
       "      <td>123</td>\n",
       "      <td>2020-01-15</td>\n",
       "      <td>2020-01-12</td>\n",
       "      <td>14</td>\n",
       "      <td>2020-01-17</td>\n",
       "      <td>2020-01-20</td>\n",
       "      <td>2</td>\n",
       "    </tr>\n",
       "    <tr>\n",
       "      <td>4</td>\n",
       "      <td>1</td>\n",
       "      <td>123</td>\n",
       "      <td>2020-01-15</td>\n",
       "      <td>2020-01-13</td>\n",
       "      <td>23</td>\n",
       "      <td>2020-01-17</td>\n",
       "      <td>2020-01-21</td>\n",
       "      <td>9</td>\n",
       "    </tr>\n",
       "    <tr>\n",
       "      <td>5</td>\n",
       "      <td>1</td>\n",
       "      <td>123</td>\n",
       "      <td>2020-01-15</td>\n",
       "      <td>2020-01-14</td>\n",
       "      <td>34</td>\n",
       "      <td>2020-01-17</td>\n",
       "      <td>2020-01-22</td>\n",
       "      <td>0</td>\n",
       "    </tr>\n",
       "  </tbody>\n",
       "</table>\n",
       "</div>"
      ],
      "text/plain": [
       "  ﻿appid chg_number   chg_start dates_bfr_5 inc_cnt_bfr chg_end_date  \\\n",
       "1      1        123  2020-01-15  2020-01-10          20   2020-01-17   \n",
       "2      1        123  2020-01-15  2020-01-11          22   2020-01-17   \n",
       "3      1        123  2020-01-15  2020-01-12          14   2020-01-17   \n",
       "4      1        123  2020-01-15  2020-01-13          23   2020-01-17   \n",
       "5      1        123  2020-01-15  2020-01-14          34   2020-01-17   \n",
       "\n",
       "  dates_aft_5 inc_cnt_aft  \n",
       "1  2020-01-18          70  \n",
       "2  2020-01-19          30  \n",
       "3  2020-01-20           2  \n",
       "4  2020-01-21           9  \n",
       "5  2020-01-22           0  "
      ]
     },
     "execution_count": 6,
     "metadata": {},
     "output_type": "execute_result"
    }
   ],
   "source": [
    "#Converting list to frame\n",
    "header = pd.DataFrame(load_data).iloc[0]\n",
    "content = pd.DataFrame(load_data)[1:]\n",
    "df = content.rename(columns=header)\n",
    "\n",
    "\n",
    "df\n",
    "\n",
    "# df_bfr = df.filter(['dates_bfr_5','inc_cnt_bfr'],axis=1)\n",
    "# df_afr = df.filter(['dates_aft_5','inc_cnt_aft'],axis=1)\n",
    "\n",
    "# df1 = df_bfr.set_index('dates_bfr_5').plot()\n",
    "# plt.xticks(rotation=45)\n",
    "\n",
    "# df2 = df_afr.set_index('dates_aft_5').plot()\n",
    "# plt.xticks(rotation=45)\n",
    "# df_bft_after = df['dates_aft_5','inc_cnt_aft']"
   ]
  },
  {
   "cell_type": "code",
   "execution_count": 20,
   "metadata": {},
   "outputs": [
    {
     "data": {
      "text/plain": [
       "array([70, 30, 2, 9, 0], dtype=object)"
      ]
     },
     "execution_count": 20,
     "metadata": {},
     "output_type": "execute_result"
    }
   ],
   "source": [
    "df_chg = np.array(df['inc_cnt_bfr'])\n",
    "df_aft = np.array(df['inc_cnt_aft'])\n"
   ]
  },
  {
   "cell_type": "code",
   "execution_count": 49,
   "metadata": {},
   "outputs": [
    {
     "data": {
      "text/plain": [
       "0.6834367231934924"
      ]
     },
     "execution_count": 49,
     "metadata": {},
     "output_type": "execute_result"
    }
   ],
   "source": [
    "x = np.array(df_aft)\n",
    "y = np.array(df_chg)\n",
    "r, p = scipy.stats.pearsonr(x, y)\n"
   ]
  },
  {
   "cell_type": "code",
   "execution_count": null,
   "metadata": {},
   "outputs": [],
   "source": []
  },
  {
   "cell_type": "code",
   "execution_count": null,
   "metadata": {},
   "outputs": [],
   "source": []
  },
  {
   "cell_type": "code",
   "execution_count": null,
   "metadata": {},
   "outputs": [],
   "source": []
  },
  {
   "cell_type": "code",
   "execution_count": null,
   "metadata": {},
   "outputs": [],
   "source": []
  },
  {
   "cell_type": "code",
   "execution_count": null,
   "metadata": {},
   "outputs": [],
   "source": []
  },
  {
   "cell_type": "code",
   "execution_count": null,
   "metadata": {},
   "outputs": [],
   "source": []
  },
  {
   "cell_type": "markdown",
   "metadata": {},
   "source": [
    " Remarks : Values should be discreet and we know the number of incident raised - Unsure if its discreet or continues \n",
    " \n",
    " Lets find correlation for 1 software that is assigned to 1 change number and find the probabilitt distribution"
   ]
  },
  {
   "cell_type": "code",
   "execution_count": null,
   "metadata": {},
   "outputs": [],
   "source": []
  },
  {
   "cell_type": "code",
   "execution_count": null,
   "metadata": {},
   "outputs": [],
   "source": []
  },
  {
   "cell_type": "markdown",
   "metadata": {},
   "source": [
    "<B> N-Neighbour Definition and use case </B>\n",
    "<p> n neigbours is from sklearn.neighbors.NearestNeighbors </p>\n",
    "Reference : https://scikit-learn.org/stable/modules/generated/sklearn.neighbors.NearestNeighbors.html\n",
    "\n",
    "- Unsupervise learning : Nearest Neigbour"
   ]
  },
  {
   "cell_type": "code",
   "execution_count": 14,
   "metadata": {},
   "outputs": [],
   "source": [
    "from scipy.spatial.distance import correlation\n",
    "from sklearn.neighbors import NearestNeighbors"
   ]
  },
  {
   "cell_type": "code",
   "execution_count": 24,
   "metadata": {},
   "outputs": [
    {
     "data": {
      "text/plain": [
       "[array([20, 22, 14, 23, 34], dtype=object),\n",
       " array([70, 30, 2, 9, 0], dtype=object)]"
      ]
     },
     "execution_count": 24,
     "metadata": {},
     "output_type": "execute_result"
    }
   ],
   "source": [
    "# find the average 10 days before and 10 days after -> one dataset\n",
    "cor = [df_chg, df_aft]\n",
    "nbrs = NearestNeighbors(n_neighbors=4, metric='correlation')\n",
    "nbrs.fit(cor)"
   ]
  },
  {
   "cell_type": "code",
   "execution_count": null,
   "metadata": {},
   "outputs": [],
   "source": []
  },
  {
   "cell_type": "code",
   "execution_count": null,
   "metadata": {},
   "outputs": [],
   "source": []
  },
  {
   "cell_type": "code",
   "execution_count": null,
   "metadata": {},
   "outputs": [],
   "source": []
  }
 ],
 "metadata": {
  "kernelspec": {
   "display_name": "Python 3",
   "language": "python",
   "name": "python3"
  },
  "language_info": {
   "codemirror_mode": {
    "name": "ipython",
    "version": 3
   },
   "file_extension": ".py",
   "mimetype": "text/x-python",
   "name": "python",
   "nbconvert_exporter": "python",
   "pygments_lexer": "ipython3",
   "version": "3.7.4"
  }
 },
 "nbformat": 4,
 "nbformat_minor": 2
}
