{
 "cells": [
  {
   "cell_type": "markdown",
   "metadata": {},
   "source": [
    "<h4>Chart on application comparison on Google Play & Apple store</h4>\n",
    "\n",
    "Goal : \n",
    "\n",
    "<ul>\n",
    " <li>count the number of application downloaded <b>COMPLETED</b> </li>\n",
    "    <li>Which Category has the most downloaded apps <b> COMPLETED </b> </li>\n",
    "</ul> \n",
    " \n",
    " Plot a bar chart & regression method to see the downloaded pattern \n",
    " \n",
    " \n",
    "<h4> Part two </h4>\n",
    "\n",
    "<ul>\n",
    "    <li> Remove duplicates <b>COMPLETED</b></li>\n",
    "    <li> Remove Application that is free <b>COMPLETED</b></li>\n",
    "    <li> Remove Chinese Application on google store <b>COMPLETED</b></li>\n",
    "    <li> Create a plot to see the pattern of download <b>COMPLETED</b></li>\n",
    "    \n",
    "</ul>    "
   ]
  },
  {
   "cell_type": "code",
   "execution_count": 1,
   "metadata": {},
   "outputs": [],
   "source": [
    "import numpy as np\n",
    "import pandas as pd \n",
    "import seaborn as sns\n",
    "import matplotlib.pyplot as plt\n",
    "from scipy import stats"
   ]
  },
  {
   "cell_type": "code",
   "execution_count": 2,
   "metadata": {},
   "outputs": [],
   "source": [
    "sns.set(style=\"whitegrid\", color_codes=True)\n",
    "sns.set(rc={'figure.figsize':(15,8)})"
   ]
  },
  {
   "cell_type": "code",
   "execution_count": null,
   "metadata": {
    "scrolled": true
   },
   "outputs": [],
   "source": []
  },
  {
   "cell_type": "code",
   "execution_count": 12,
   "metadata": {},
   "outputs": [],
   "source": [
    "# Function to open file\n",
    "# include encoding utf8 for all character to be recognize\n",
    "def openfile(file_path):\n",
    "    opened_file = open(file_path , enconding='utf8')\n",
    "    from csv import reader\n",
    "    read_file = reader(opened_file)\n",
    "    return list(read_file)\n",
    "\n",
    "# openfile('../raw_data/googleplaystore.csv')"
   ]
  },
  {
   "cell_type": "code",
   "execution_count": 4,
   "metadata": {},
   "outputs": [
    {
     "name": "stdout",
     "output_type": "stream",
     "text": [
      "CPU times: user 83.4 ms, sys: 18.2 ms, total: 102 ms\n",
      "Wall time: 104 ms\n"
     ]
    }
   ],
   "source": [
    "%%time\n",
    "# Open file #2million Records\n",
    "google = openfile('../raw_data/googleplaystore.csv')\n",
    "apple = openfile('../raw_data/appleStore.csv')\n",
    "\n",
    "\n",
    "#Extract data from raw format and assign to a list ( data value )\n",
    "def data_extraction(data_set, index):\n",
    "    column = []\n",
    "    for row in data_set[1:]:\n",
    "        value = row[index]\n",
    "        column.append(value)\n",
    "    return column\n",
    "     \n",
    "# Get the frequency of the selected value \n",
    "def freq_ratings(extracted_data_list):\n",
    "    freq = {}\n",
    "    for i in extracted_data_list:\n",
    "        if i in freq:\n",
    "            freq[i] += 1\n",
    "        else:\n",
    "            freq[i] = 1\n",
    "    return freq       "
   ]
  },
  {
   "cell_type": "code",
   "execution_count": 5,
   "metadata": {},
   "outputs": [
    {
     "name": "stdout",
     "output_type": "stream",
     "text": [
      "[460 156 149 366 382 463 260 384 424  82]\n"
     ]
    },
    {
     "data": {
      "text/plain": [
       "<matplotlib.axes._subplots.AxesSubplot at 0x129dc7ad0>"
      ]
     },
     "execution_count": 5,
     "metadata": {},
     "output_type": "execute_result"
    },
    {
     "data": {
      "image/png": "[encoded data removed]",
      "text/plain": [
       "<Figure size 1080x576 with 1 Axes>"
      ]
     },
     "metadata": {},
     "output_type": "display_data"
    }
   ],
   "source": [
    "#set data to uppercase\n",
    "def tabular(dataset, index):\n",
    "    #Count Frequency \n",
    "    category = data_extraction(dataset,index)\n",
    "    category_rating = freq_ratings(category)\n",
    "    \n",
    "    #Create tabular table : set all data to uppercase to match data\n",
    "    category_rating = {x.upper():y for x,y in category_rating.items()}\n",
    "    \n",
    "    return pd.DataFrame(list(category_rating.items()), columns=['Category','Count'])\n",
    "\n",
    "#Get common category\n",
    "def common_category(dataframe_1, dataframe_2):\n",
    "    data = np.intersect1d(dataframe_1.Category, np.intersect1d(dataframe_1.Category,dataframe_2.Category))\n",
    "    return data\n",
    "    \n",
    "def createBarChart(df_1,df_2,cm_list):\n",
    "    df1_arr = df_1[df_1['Category'].isin(cm_list)]\n",
    "    df2_arr = df_2[df_2['Category'].isin(cm_list)]\n",
    "    \n",
    "    header = np.array(df1_arr['Category'])\n",
    "    df_1 = np.array(df1_arr['Count'])\n",
    "    df_2 = np.array(df2_arr['Count'])\n",
    "    print(df_1)\n",
    "    bar_chart = pd.DataFrame({'AppleStore Records': df_1,'Google PlayStore Records': df_2}, index=header)\n",
    "    return bar_chart.plot.bar(rot=0)\n",
    "\n",
    "df_g = tabular(google,1)\n",
    "df_a = tabular(apple,11)\n",
    "cm_list = common_category(df_a,df_g)\n",
    "\n",
    "createBarChart(df_g,df_a,cm_list)\n",
    "\n",
    "\n",
    "# df = df_g[df_g['Category'].isin(['BEAUTY','GAME'])]\n",
    "# print(df_a.Category)\n",
    "# np.intersect1d(df_g.Category, np.intersect1d(df_g.Category,df_a.Category))\n",
    "\n"
   ]
  },
  {
   "cell_type": "code",
   "execution_count": null,
   "metadata": {},
   "outputs": [],
   "source": []
  },
  {
   "cell_type": "markdown",
   "metadata": {},
   "source": [
    "## Part 2 of google application analysis project\n"
   ]
  },
  {
   "cell_type": "code",
   "execution_count": 14,
   "metadata": {},
   "outputs": [],
   "source": [
    "def openfile(url):\n",
    "    open_file = open(url, encoding='utf8')\n",
    "    read_file = reader(open_file)\n",
    "    data_list = list(read_file)\n",
    "    data_header = data_list[0]\n",
    "#     print(data_header)\n",
    "    data = data_list[1:] \n",
    "    return data\n",
    "\n",
    "\n",
    "andriod = openfile('../raw_data/googleplaystore.csv')\n",
    "ios = openfile('../raw_data/appleStore.csv')\n",
    "\n",
    "# andriod[0]\n",
    "\n",
    "#Incorrect data for ratings\n",
    "# andriod[10472] # Create a new function - Deep learning for text recognition "
   ]
  },
  {
   "cell_type": "code",
   "execution_count": 15,
   "metadata": {},
   "outputs": [],
   "source": [
    "# Check datasets\n",
    "def explore_data(dataset, start, end, rows_and_columns=False):\n",
    "    dataset_slice = dataset[start:end]    \n",
    "    for row in dataset_slice:\n",
    "        print(row)\n",
    "        print('\\n') # adds a new (empty) line between rows\n",
    "        \n",
    "    if rows_and_columns:\n",
    "        print('Number of rows:', len(dataset))\n",
    "        print('Number of columns:', len(dataset[0]))\n"
   ]
  },
  {
   "cell_type": "code",
   "execution_count": 16,
   "metadata": {},
   "outputs": [],
   "source": [
    "#Data at 10472 has an invalid rating \n",
    "#Version 2.0 -> create a function that will detect character \n",
    "del andriod[10472]  "
   ]
  },
  {
   "cell_type": "code",
   "execution_count": 17,
   "metadata": {},
   "outputs": [],
   "source": [
    "\n",
    "def removeDuplicates(datasets):\n",
    "    \n",
    "    #Variable to check no of duplicates\n",
    "    duplicate_apps = []\n",
    "    unique_apps = []\n",
    "    \n",
    "    # Variable to remove the number of duplicates \n",
    "    reviews_max = {}\n",
    "    android_clean = []\n",
    "    already_added = []\n",
    "    \n",
    "    #Check the number of duplicates \n",
    "    for i in datasets:\n",
    "        name = i[0]\n",
    "        if name in unique_apps:\n",
    "            duplicate_apps.append(name)\n",
    "        else:\n",
    "            unique_apps.append(name)\n",
    "    print('Number of duplicates is ', len(duplicate_apps))\n",
    "    \n",
    "    \n",
    "    #Remove the duplicates actual - duplicates = result \n",
    "    for app in andriod:\n",
    "        name = app[0]\n",
    "        n_reviews = float(app[3])\n",
    "        \n",
    "        if name in reviews_max and reviews_max[name] < n_reviews:\n",
    "            reviews_max[name] = n_reviews\n",
    "        \n",
    "        elif name not in reviews_max:\n",
    "            reviews_max[name] = n_reviews\n",
    "        \n",
    "        #Append rows that excluding duplicates \n",
    "        if (reviews_max[name] == n_reviews) and (name not in already_added):\n",
    "            android_clean.append(app)\n",
    "            already_added.append(name) # make sure this is inside the if block    \n",
    "    print('Number of rows available after excluding duplicates is : ' , len(android_clean))\n",
    "        \n",
    "    return android_clean\n",
    "\n",
    "# df = removeDuplicates(andriod)    "
   ]
  },
  {
   "cell_type": "code",
   "execution_count": null,
   "metadata": {},
   "outputs": [],
   "source": [
    "#check if it not enlgish application\n",
    "def isEnglish(string):\n",
    "    non_ascii = 0\n",
    "    for character in string:\n",
    "        if ord(character) > 127:\n",
    "            non_ascii += 1\n",
    "         \n",
    "    if non_ascii > 3:\n",
    "        return False\n",
    "    else:\n",
    "        return True\n",
    "\n",
    "#Record data that exlcude non english application     \n",
    "def isEnglist_dataset(datasets,index):\n",
    "    eng_dataset = []\n",
    "    for app in datasets:\n",
    "        name = app[index]\n",
    "        if isEnglish(name):\n",
    "            eng_dataset.append(app)\n",
    "    print('Number of rows available after removing non english application is : ', len(eng_dataset))        \n",
    "    return eng_dataset    "
   ]
  },
  {
   "cell_type": "code",
   "execution_count": 19,
   "metadata": {},
   "outputs": [
    {
     "name": "stdout",
     "output_type": "stream",
     "text": [
      "Number of duplicates is  1181\n",
      "Number of rows available after excluding duplicates is :  9659\n",
      "Number of rows available after removing non english application is :  9614\n",
      "Number of rows available after removing free application is :  8862\n"
     ]
    }
   ],
   "source": [
    "#7 index for pricing\n",
    "\n",
    "def free_application(dataset,index):\n",
    "    free_dataset = []\n",
    "    \n",
    "    #record paid application\n",
    "    for app in dataset:\n",
    "        price = app[index]\n",
    "        if price == '0':\n",
    "            free_dataset.append(app)\n",
    "    print('Number of rows available after removing free application is : ', len(free_dataset))    \n",
    "    return free_dataset\n",
    "\n",
    "df = free_application(isEnglist_dataset(removeDuplicates(andriod),0),7)            "
   ]
  },
  {
   "cell_type": "code",
   "execution_count": 20,
   "metadata": {},
   "outputs": [],
   "source": [
    "def freq_table(dataset, index):\n",
    "    table = {}\n",
    "    total = 0\n",
    "    \n",
    "    for row in dataset:\n",
    "        total += 1\n",
    "        value = row[index]\n",
    "        if value in table:\n",
    "            table[value] += 1\n",
    "        else:\n",
    "            table[value] = 1\n",
    "    \n",
    "    table_percentages = {}\n",
    "    for key in table:\n",
    "        percentage = (table[key] / total) * 100\n",
    "        table_percentages[key] = percentage \n",
    "    \n",
    "    return table_percentages\n",
    "\n",
    "\n",
    "def display_table(dataset, index):\n",
    "    result = {}\n",
    "    percent = []\n",
    "    title = []\n",
    "    table = freq_table(dataset, index)\n",
    "    table_display = []\n",
    "    for key in table:\n",
    "        key_val_as_tuple = (table[key], key)\n",
    "        table_display.append(key_val_as_tuple)\n",
    "        \n",
    "    table_sorted = sorted(table_display, reverse = True)\n",
    "    for entry in table_sorted:\n",
    "#         print(entry[1], ':', entry[0])\n",
    "        result[entry[1]] = entry[0]\n",
    "    return result\n",
    "       \n",
    "#         result[entry[1]] = entry[0] \n",
    "#          percent.append(entry[0])\n",
    "#         print(entry[1], ':', entry[0])\n",
    "#      return result    "
   ]
  },
  {
   "cell_type": "code",
   "execution_count": 21,
   "metadata": {},
   "outputs": [
    {
     "data": {
      "text/plain": [
       "Text(0, 0.5, 'Percentage')"
      ]
     },
     "execution_count": 21,
     "metadata": {},
     "output_type": "execute_result"
    },
    {
     "data": {
      "image/png": "[encoded data removed]",
      "text/plain": [
       "<Figure size 1080x576 with 1 Axes>"
      ]
     },
     "metadata": {},
     "output_type": "display_data"
    }
   ],
   "source": [
    "dp = pd.DataFrame(display_table(df, 1).items(), columns = [0,1])\n",
    "dp.set_index(0).plot()\n",
    "plt.xticks(rotation=45)\n",
    "plt.xlabel('Category')\n",
    "plt.ylabel('Percentage')\n",
    "\n",
    "# target_date = dataset.set_index(pd.Index(date_index,'Date'))\n",
    "# pd.DataFrame(pdFrame).setIndex('asd')\n",
    "# freq_table(df, 1)"
   ]
  },
  {
   "cell_type": "code",
   "execution_count": 24,
   "metadata": {
    "scrolled": true
   },
   "outputs": [],
   "source": [
    "#-- Finding data installeed\n",
    "# for app in df:\n",
    "#     if app[1] == 'BOOKS_AND_REFERENCE':\n",
    "# #         print(app[0], ':', app[5])"
   ]
  },
  {
   "cell_type": "code",
   "execution_count": null,
   "metadata": {},
   "outputs": [],
   "source": []
  },
  {
   "cell_type": "code",
   "execution_count": null,
   "metadata": {},
   "outputs": [],
   "source": []
  }
 ],
 "metadata": {
  "kernelspec": {
   "display_name": "Python 3",
   "language": "python",
   "name": "python3"
  },
  "language_info": {
   "codemirror_mode": {
    "name": "ipython",
    "version": 3
   },
   "file_extension": ".py",
   "mimetype": "text/x-python",
   "name": "python",
   "nbconvert_exporter": "python",
   "pygments_lexer": "ipython3",
   "version": "3.7.4"
  }
 },
 "nbformat": 4,
 "nbformat_minor": 2
}
